{
  "nbformat": 4,
  "nbformat_minor": 0,
  "metadata": {
    "colab": {
      "provenance": [],
      "authorship_tag": "ABX9TyMKIZrZ22Zhtv+bSY7VCCQl",
      "include_colab_link": true
    },
    "kernelspec": {
      "name": "python3",
      "display_name": "Python 3"
    },
    "language_info": {
      "name": "python"
    }
  },
  "cells": [
    {
      "cell_type": "markdown",
      "metadata": {
        "id": "view-in-github",
        "colab_type": "text"
      },
      "source": [
        "<a href=\"https://colab.research.google.com/github/skywalker0803r/python-tutoring-materials/blob/main/01_python%E5%9F%BA%E7%A4%8E.ipynb\" target=\"_parent\"><img src=\"https://colab.research.google.com/assets/colab-badge.svg\" alt=\"Open In Colab\"/></a>"
      ]
    },
    {
      "cell_type": "markdown",
      "source": [
        "#一、變量\n",
        "在Python中，變量是一個可以存儲值的容器。在人工智慧領域，變量通常用於存儲數據和模型參數。\n",
        "\n",
        "例子："
      ],
      "metadata": {
        "id": "wqiri3tw7GOI"
      }
    },
    {
      "cell_type": "code",
      "execution_count": 3,
      "metadata": {
        "id": "1VPcyfam7E_z"
      },
      "outputs": [],
      "source": [
        "# 定義一個整數變量\n",
        "x = 10\n",
        "\n",
        "# 定義一個字符串變量\n",
        "y = \"Hello, world!\"\n",
        "\n",
        "# 定義一個布爾變量\n",
        "z = True\n",
        "\n",
        "# 定義一個字典變量\n",
        "d = {'蘋果':'apple'}"
      ]
    },
    {
      "cell_type": "markdown",
      "source": [
        "練習題：\n",
        "\n",
        "定義一個列表變量，其中包含你喜歡的三種水果。\n",
        "\n",
        "定義一個浮點數變量，表示你的身高（單位：米）。\n",
        "\n",
        "定義一個字典變量，包含你的姓名、年齡和所在城市等信息。"
      ],
      "metadata": {
        "id": "Ri6jTjE67VlG"
      }
    },
    {
      "cell_type": "markdown",
      "source": [
        "# 二、函數\n",
        "\n",
        "在Python中，函數是一段可重用的代碼塊，可以接受參數並返回值。在人工智慧領域，函數通常用於實現模型的訓練、預測等功能。\n",
        "\n",
        "例子："
      ],
      "metadata": {
        "id": "HfZnHVbL7dQH"
      }
    },
    {
      "cell_type": "code",
      "source": [
        "# 定義一個函數，計算兩個數的和\n",
        "def add(x, y):\n",
        "    return x + y\n",
        "\n",
        "# 調用函數，計算 3 和 5 的和\n",
        "result = add(3, 5)\n",
        "print(result)"
      ],
      "metadata": {
        "colab": {
          "base_uri": "https://localhost:8080/"
        },
        "id": "I4HQTEu47Rqb",
        "outputId": "5402ad4d-5309-4d8a-eb51-5bebd03ce58c"
      },
      "execution_count": 4,
      "outputs": [
        {
          "output_type": "stream",
          "name": "stdout",
          "text": [
            "8\n"
          ]
        }
      ]
    },
    {
      "cell_type": "markdown",
      "source": [
        "練習題：\n",
        "\n",
        "定義一個函數，接受一個整數參數，返回該數字的平方。\n",
        "\n",
        "定義一個函數，接受一個列表參數，返回列表中所有元素的平均值。\n",
        "\n",
        "定義一個函數，接受一個字符串參數，返回該字符串的反轉字符串。"
      ],
      "metadata": {
        "id": "DBDBsuyH72qs"
      }
    },
    {
      "cell_type": "markdown",
      "source": [
        "三、列表\n",
        "\n",
        "在Python中，列表是一個有序的、可變的集合，可以包含不同類型的元素。在人工智慧領域，列表通常用於存儲數據集和模型輸入等。\n",
        "\n",
        "例子："
      ],
      "metadata": {
        "id": "v8V2oayz7-xS"
      }
    },
    {
      "cell_type": "code",
      "source": [
        "# 定義一個包含三個整數的列表\n",
        "numbers = [1, 2, 3]\n",
        "\n",
        "# 定義一個包含三個字符串的列表\n",
        "fruits = [\"apple\", \"banana\", \"orange\"]\n",
        "\n",
        "# 訪問列表元素\n",
        "print(numbers[0])    # 1\n",
        "print(fruits[1])     # \"banana\"\n",
        "\n",
        "# 修改列表元素\n",
        "fruits[1] = \"grape\"\n",
        "print(fruits)        # [\"apple\", \"grape\", \"orange\"]\n",
        "\n",
        "# 刪除列表元素\n",
        "del fruits[0]\n",
        "print(fruits)        # [\"grape\", \"orange\"]"
      ],
      "metadata": {
        "colab": {
          "base_uri": "https://localhost:8080/"
        },
        "id": "JQIN95-c7kB0",
        "outputId": "6fd83e1a-0fb3-4b48-e9a5-5c9284865aa3"
      },
      "execution_count": 5,
      "outputs": [
        {
          "output_type": "stream",
          "name": "stdout",
          "text": [
            "1\n",
            "banana\n",
            "['apple', 'grape', 'orange']\n",
            "['grape', 'orange']\n"
          ]
        }
      ]
    },
    {
      "cell_type": "markdown",
      "source": [
        "練習題：\n",
        "\n",
        "定義一個包含五個整數的列表，計算列表中所有元素的和。\n",
        "\n",
        "定義一個包含五個字符串的列表，將列表中所有字符串轉換為大寫字母。\n",
        "\n",
        "定義一個包含五個浮點數的列表，返回列表中最大的數字。"
      ],
      "metadata": {
        "id": "toi8nLc48Z5I"
      }
    },
    {
      "cell_type": "markdown",
      "source": [
        "# 四、迴圈\n",
        "在Python中，迴圈是一種可以重複執行某個代碼塊的結構。在人工智慧領域，迴圈通常用於對數據進行遍歷和處理。\n",
        "\n",
        "例子："
      ],
      "metadata": {
        "id": "ym8HvkLS8hEE"
      }
    },
    {
      "cell_type": "code",
      "source": [
        "# 定義一個包含五個整數的列表\n",
        "numbers = [1, 2, 3, 4, 5]\n",
        "\n",
        "# 使用 for 循環遍歷列表中的元素\n",
        "for number in numbers:\n",
        "    print(number)\n",
        "\n",
        "# 使用 while 循環計算 1 到 10 的和\n",
        "i = 1\n",
        "sum = 0\n",
        "while i <= 10:\n",
        "    sum += i\n",
        "    i += 1\n",
        "print(sum)"
      ],
      "metadata": {
        "colab": {
          "base_uri": "https://localhost:8080/"
        },
        "id": "gRecdOOj8EPV",
        "outputId": "4c97ecc5-a19c-4411-9127-6ebce1a26b2b"
      },
      "execution_count": 6,
      "outputs": [
        {
          "output_type": "stream",
          "name": "stdout",
          "text": [
            "1\n",
            "2\n",
            "3\n",
            "4\n",
            "5\n",
            "55\n"
          ]
        }
      ]
    },
    {
      "cell_type": "markdown",
      "source": [
        "練習題：\n",
        "\n",
        "定義一個包含五個整數的列表，使用 for 循環遍歷列表，計算所有元素的平均值。\n",
        "\n",
        "定義一個包含五個字符串的列表，使用 while 循環遍歷列表，將列表中所有字符串轉換為小寫字母。\n",
        "\n",
        "定義一個包含五個浮點數的列表，使用 for 循環遍歷列表，返回列表中最小的數字。"
      ],
      "metadata": {
        "id": "UBiQrccZ8uqS"
      }
    },
    {
      "cell_type": "markdown",
      "source": [
        "# 五、條件語句\n",
        "\n",
        "在Python中，條件語句是一種可以根據條件執行不同代碼塊的結構。在人工智慧領域，條件語句通常用於根據模型輸出進行判斷和處理。"
      ],
      "metadata": {
        "id": "DvsQ65Uh8184"
      }
    },
    {
      "cell_type": "code",
      "source": [
        "# 定義一個整數變量\n",
        "x = 10\n",
        "\n",
        "# 使用 if 語句判斷 x 是否大於 5\n",
        "if x > 5:\n",
        "    print(\"x is greater than 5\")\n",
        "else:\n",
        "    print(\"x is less than or equal to 5\")\n",
        "\n",
        "# 使用 if-elif-else 語句判斷 x 的值\n",
        "if x > 10:\n",
        "    print(\"x is greater than 10\")\n",
        "elif x < 10:\n",
        "    print(\"x is less than 10\")\n",
        "else:\n",
        "    print(\"x is equal to 10\")"
      ],
      "metadata": {
        "colab": {
          "base_uri": "https://localhost:8080/"
        },
        "id": "2zCA6Kri8otB",
        "outputId": "620a5441-ae43-4f49-88ed-d0b8943bb5e0"
      },
      "execution_count": 7,
      "outputs": [
        {
          "output_type": "stream",
          "name": "stdout",
          "text": [
            "x is greater than 5\n",
            "x is equal to 10\n"
          ]
        }
      ]
    },
    {
      "cell_type": "markdown",
      "source": [
        "練習題：\n",
        "\n",
        "定義一個整數變量，使用 if 語句判斷該數字是否為偶數。\n",
        "\n",
        "定義一個浮點數變量，使用 if-elif-else 語句判斷該數字的正負。\n",
        "\n",
        "定義一個字符串變量，使用 if 語句判斷該字符串是否包含子串 \"AI\"。"
      ],
      "metadata": {
        "id": "BvK_aBT69CjE"
      }
    },
    {
      "cell_type": "markdown",
      "source": [
        "# 6.類別(Class)\n",
        "在定義類別時，通常會使用關鍵字 class，後面接類別的名稱，並且在類別中定義類別的屬性和方法。以下是一個簡單的類別定義範例："
      ],
      "metadata": {
        "id": "MqNXU2pl911g"
      }
    },
    {
      "cell_type": "code",
      "source": [
        "class Person:\n",
        "    def __init__(self, name, age):\n",
        "        self.name = name\n",
        "        self.age = age\n",
        "\n",
        "    def say_hello(self):\n",
        "        print(\"Hello, my name is {} and I'm {} years old.\".format(self.name, self.age))"
      ],
      "metadata": {
        "id": "EJ-KUuVx83DI"
      },
      "execution_count": 8,
      "outputs": []
    },
    {
      "cell_type": "markdown",
      "source": [
        "在這個範例中，我們定義了一個名為 Person 的類別，它有兩個屬性 name 和 age，以及一個方法 say_hello。方法的定義方式與函數類似，但是它必須包含一個 self 參數，這個參數用於指向方法所屬的物件。\n",
        "\n",
        "要創建一個 Person 物件，可以使用以下語句："
      ],
      "metadata": {
        "id": "EsmxHlkl-ElN"
      }
    },
    {
      "cell_type": "code",
      "source": [
        "p = Person(\"Alice\", 25)"
      ],
      "metadata": {
        "id": "BH9Vesj7-Ce7"
      },
      "execution_count": 9,
      "outputs": []
    },
    {
      "cell_type": "markdown",
      "source": [
        "這個語句會創建一個 Person 物件，並將它的 name 屬性設為 \"Alice\"，age 屬性設為 25。\n",
        "\n",
        "要調用物件的方法，可以使用以下語句："
      ],
      "metadata": {
        "id": "bxaKxQ07-J6n"
      }
    },
    {
      "cell_type": "code",
      "source": [
        "p.say_hello()"
      ],
      "metadata": {
        "colab": {
          "base_uri": "https://localhost:8080/"
        },
        "id": "Tej-9Ben-H1s",
        "outputId": "8aa5de4b-51df-46f2-d75e-75c00fb5812d"
      },
      "execution_count": 10,
      "outputs": [
        {
          "output_type": "stream",
          "name": "stdout",
          "text": [
            "Hello, my name is Alice and I'm 25 years old.\n"
          ]
        }
      ]
    },
    {
      "cell_type": "markdown",
      "source": [
        "如上程式碼這個語句會調用 Person 物件 p 的 say_hello 方法，並顯示以下訊息：\n",
        "\n",
        "Hello, my name is Alice and I'm 25 years old."
      ],
      "metadata": {
        "id": "605LGvGs-QPO"
      }
    },
    {
      "cell_type": "markdown",
      "source": [
        "以上課程主要介紹了 Python 程式語言的基本語法和應用，包括變量、函數、列表、迴圈、條件語句和類別。這些是 Python 程式設計的基礎，掌握了這些基礎知識，就可以開始進一步學習 Python 的其他應用，例如人工智慧、機器學習等。\n",
        "\n",
        "在變量方面，我們介紹了如何定義變量，以及不同的變量類型，例如整數、浮點數和字串。在函數方面，我們介紹了如何定義和調用函數，以及函數的參數和返回值。在列表方面，我們介紹了如何創建和操作列表，以及列表的常用方法。在迴圈和條件語句方面，我們介紹了如何使用 for 循環和 while 循環，以及 if 和 else 語句，這些是控制程式流程的重要工具。在類別方面，我們介紹了如何定義和使用類別，以及如何創建和調用物件，這是 Python 面向對象程式設計的基礎。"
      ],
      "metadata": {
        "id": "wm-qnmYw-v_B"
      }
    },
    {
      "cell_type": "code",
      "source": [],
      "metadata": {
        "id": "ooOEMQiz-wiu"
      },
      "execution_count": null,
      "outputs": []
    }
  ]
}