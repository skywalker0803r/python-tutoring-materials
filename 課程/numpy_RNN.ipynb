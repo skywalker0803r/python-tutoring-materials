{
  "nbformat": 4,
  "nbformat_minor": 0,
  "metadata": {
    "colab": {
      "provenance": []
    },
    "kernelspec": {
      "name": "python3",
      "display_name": "Python 3"
    },
    "language_info": {
      "name": "python"
    }
  },
  "cells": [
    {
      "cell_type": "code",
      "execution_count": 6,
      "metadata": {
        "colab": {
          "base_uri": "https://localhost:8080/"
        },
        "id": "1GiNh3N655u_",
        "outputId": "75e19b40-7260-4c6a-a0b9-c475ad336bc5"
      },
      "outputs": [
        {
          "output_type": "stream",
          "name": "stdout",
          "text": [
            "[1. 1. 1. 1. 1. 1. 1. 1. 1. 1. 1. 1. 1. 1. 1. 1. 1. 1. 1. 1. 1. 1. 1. 1.\n",
            " 1. 1. 1. 1. 1. 1. 1. 1. 1. 1. 1. 1. 1. 1. 1. 1. 1. 1. 1. 1. 1. 1. 1. 1.\n",
            " 1. 1. 1. 1. 1. 1. 1. 1. 1. 1. 1. 1. 1. 1. 1. 1.]\n"
          ]
        }
      ],
      "source": [
        "import numpy as np\n",
        "\n",
        "# 输入序列的时间步数\n",
        "timesteps = 100\n",
        "# 输入特征空间的维度\n",
        "input_features = 32\n",
        "# 输出特征空间的维度\n",
        "output_features = 64\n",
        "\n",
        "#输入数据：随机噪声\n",
        "inputs = np.random.random((timesteps,input_features))\n",
        "\n",
        "#初始状态：全零向量\n",
        "state_t = np.zeros((output_features))\n",
        "\n",
        "# 创建随机的权重矩阵\n",
        "U = np.random.random((output_features,output_features))\n",
        "W = np.random.random((output_features,input_features))\n",
        "b = np.random.random((output_features,))\n",
        "\n",
        "successive_outputs = []\n",
        "\n",
        "for input_t in inputs: # input_t 是形状为 (input_features,) 的向量\n",
        "    #由输入和当前状（前一个输出）计算得到当前输出\n",
        "    output_t = np.tanh(np.dot(W,input_t)+np.dot(U,state_t)+b)\n",
        "    #将这个输出保存到一个列表中\n",
        "    successive_outputs.append(output_t)\n",
        "    state_t = output_t\n",
        "\n",
        "# 最终输出是一个形状为 (timesteps, output_features) 的二维张量\n",
        "final_output_sequence = np.stack(successive_outputs, axis=0)\n",
        "print(successive_outputs[2])"
      ]
    },
    {
      "cell_type": "code",
      "source": [],
      "metadata": {
        "id": "47Nh1jZO6E_o"
      },
      "execution_count": null,
      "outputs": []
    }
  ]
}