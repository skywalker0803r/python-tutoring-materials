{
  "nbformat": 4,
  "nbformat_minor": 0,
  "metadata": {
    "colab": {
      "provenance": [],
      "authorship_tag": "ABX9TyNPj5UtNo0j4f7r/C0OLTZj",
      "include_colab_link": true
    },
    "kernelspec": {
      "name": "python3",
      "display_name": "Python 3"
    },
    "language_info": {
      "name": "python"
    }
  },
  "cells": [
    {
      "cell_type": "markdown",
      "metadata": {
        "id": "view-in-github",
        "colab_type": "text"
      },
      "source": [
        "<a href=\"https://colab.research.google.com/github/skywalker0803r/python-tutoring-materials/blob/main/02_python_%E6%95%B8%E6%93%9A%E5%88%86%E6%9E%90%E5%92%8C%E8%B3%87%E6%96%99%E6%8E%A2%E5%8B%98.ipynb\" target=\"_parent\"><img src=\"https://colab.research.google.com/assets/colab-badge.svg\" alt=\"Open In Colab\"/></a>"
      ]
    },
    {
      "cell_type": "markdown",
      "source": [
        "# 使用Pandas進行數據分析"
      ],
      "metadata": {
        "id": "GCoGVYY0dOvr"
      }
    },
    {
      "cell_type": "markdown",
      "source": [
        "由於進行數據分析需要資料\n",
        "\n",
        "這裡老師提供一份資料網址:\n",
        "\n",
        "https://www.kaggle.com/competitions/titanic/data\n",
        "\n",
        "請同學進去後找到下載按鈕(Download All)\n",
        "\n",
        "並下載"
      ],
      "metadata": {
        "id": "UYhrUvT4fF-H"
      }
    },
    {
      "cell_type": "markdown",
      "source": [
        "導入Pandas庫"
      ],
      "metadata": {
        "id": "sGfvtOgpdR1h"
      }
    },
    {
      "cell_type": "code",
      "execution_count": null,
      "metadata": {
        "id": "zolQ7PQQdNnA"
      },
      "outputs": [],
      "source": [
        "import pandas as pd"
      ]
    },
    {
      "cell_type": "markdown",
      "source": [
        "讀取數據"
      ],
      "metadata": {
        "id": "iw9P2vV4dW1l"
      }
    },
    {
      "cell_type": "code",
      "source": [
        "df = pd.read_csv('data.csv')"
      ],
      "metadata": {
        "id": "NtSGnDPtdPcj"
      },
      "execution_count": null,
      "outputs": []
    },
    {
      "cell_type": "markdown",
      "source": [
        "瀏覽數據"
      ],
      "metadata": {
        "id": "WxWWLQLgdaLp"
      }
    },
    {
      "cell_type": "code",
      "source": [
        "print(df.head())"
      ],
      "metadata": {
        "id": "TiNJ1lo6dabv"
      },
      "execution_count": null,
      "outputs": []
    },
    {
      "cell_type": "markdown",
      "source": [
        "描述性統計"
      ],
      "metadata": {
        "id": "2fP8MHZXdcY_"
      }
    },
    {
      "cell_type": "code",
      "source": [
        "print(df.describe())"
      ],
      "metadata": {
        "id": "fTH37HCqdcgv"
      },
      "execution_count": null,
      "outputs": []
    },
    {
      "cell_type": "markdown",
      "source": [
        "篩選數據"
      ],
      "metadata": {
        "id": "o3mJuh4Tdf2K"
      }
    },
    {
      "cell_type": "code",
      "source": [
        "filtered_data = df[df['age'] > 30]\n",
        "print(filtered_data.head())"
      ],
      "metadata": {
        "id": "im2rhODFdhH4"
      },
      "execution_count": null,
      "outputs": []
    },
    {
      "cell_type": "markdown",
      "source": [
        "分組聚合"
      ],
      "metadata": {
        "id": "DUh-Z-tldjgK"
      }
    },
    {
      "cell_type": "code",
      "source": [
        "grouped_data = df.groupby('gender').mean()\n",
        "print(grouped_data)"
      ],
      "metadata": {
        "id": "7SdxTMs9dj0B"
      },
      "execution_count": null,
      "outputs": []
    },
    {
      "cell_type": "markdown",
      "source": [
        "# 資料探勘演算法"
      ],
      "metadata": {
        "id": "sYeTCSF0dmej"
      }
    },
    {
      "cell_type": "markdown",
      "source": [
        "分類算法 - 決策樹"
      ],
      "metadata": {
        "id": "zWflfPbBdpkr"
      }
    },
    {
      "cell_type": "code",
      "source": [
        "from sklearn.tree import DecisionTreeClassifier\n",
        "from sklearn.model_selection import train_test_split\n",
        "from sklearn.metrics import accuracy_score"
      ],
      "metadata": {
        "id": "Di-fdAajdm3A"
      },
      "execution_count": null,
      "outputs": []
    },
    {
      "cell_type": "markdown",
      "source": [
        "讀取數據"
      ],
      "metadata": {
        "id": "JSqLl1_Adslx"
      }
    },
    {
      "cell_type": "code",
      "source": [
        "df = pd.read_csv('data.csv')"
      ],
      "metadata": {
        "id": "rIJQaxCEds09"
      },
      "execution_count": null,
      "outputs": []
    },
    {
      "cell_type": "markdown",
      "source": [
        "拆分訓練集和測試集"
      ],
      "metadata": {
        "id": "8XdyDwI4dvzL"
      }
    },
    {
      "cell_type": "code",
      "source": [
        "X = df.drop('target', axis=1)\n",
        "y = df['target']\n",
        "X_train, X_test, y_train, y_test = train_test_split(X, y, test_size=0.2)"
      ],
      "metadata": {
        "id": "UVuYDR1HdwCm"
      },
      "execution_count": null,
      "outputs": []
    },
    {
      "cell_type": "markdown",
      "source": [
        "創建決策樹分類器"
      ],
      "metadata": {
        "id": "dePP682BdzIB"
      }
    },
    {
      "cell_type": "code",
      "source": [
        "clf = DecisionTreeClassifier()"
      ],
      "metadata": {
        "id": "RGipqENjdzWz"
      },
      "execution_count": null,
      "outputs": []
    },
    {
      "cell_type": "markdown",
      "source": [
        "擬合訓練數據"
      ],
      "metadata": {
        "id": "70sNIgODd07F"
      }
    },
    {
      "cell_type": "code",
      "source": [
        "clf.fit(X_train, y_train)"
      ],
      "metadata": {
        "id": "jSSUZpxFd1D5"
      },
      "execution_count": null,
      "outputs": []
    },
    {
      "cell_type": "markdown",
      "source": [
        "預測測試集"
      ],
      "metadata": {
        "id": "mYDVAkpVd5Cf"
      }
    },
    {
      "cell_type": "code",
      "source": [
        "y_pred = clf.predict(X_test)"
      ],
      "metadata": {
        "id": "9P-nSPC-d5RR"
      },
      "execution_count": null,
      "outputs": []
    },
    {
      "cell_type": "markdown",
      "source": [
        "評估模型準確度"
      ],
      "metadata": {
        "id": "54Kx4PRfd8Bp"
      }
    },
    {
      "cell_type": "code",
      "source": [
        "accuracy = accuracy_score(y_test, y_pred)\n",
        "print('Accuracy:', accuracy)"
      ],
      "metadata": {
        "id": "6Rkc5taMd6u-"
      },
      "execution_count": null,
      "outputs": []
    },
    {
      "cell_type": "markdown",
      "source": [
        "# 聚類算法 - K均值聚類"
      ],
      "metadata": {
        "id": "xsaPx7oLd-6D"
      }
    },
    {
      "cell_type": "code",
      "source": [
        "from sklearn.cluster import KMeans\n",
        "from sklearn.preprocessing import StandardScaler"
      ],
      "metadata": {
        "id": "z7-FkLxbd6xl"
      },
      "execution_count": null,
      "outputs": []
    },
    {
      "cell_type": "markdown",
      "source": [
        "讀取數據"
      ],
      "metadata": {
        "id": "fTOYdxSPeCDn"
      }
    },
    {
      "cell_type": "code",
      "source": [
        "df = pd.read_csv('data.csv')"
      ],
      "metadata": {
        "id": "rW-B1egaeCRw"
      },
      "execution_count": null,
      "outputs": []
    },
    {
      "cell_type": "markdown",
      "source": [
        "標準化數據"
      ],
      "metadata": {
        "id": "8ecrpduheEOf"
      }
    },
    {
      "cell_type": "code",
      "source": [
        "scaler = StandardScaler()\n",
        "scaled_data = scaler.fit_transform(df)"
      ],
      "metadata": {
        "id": "7Dvnu-a8eEap"
      },
      "execution_count": null,
      "outputs": []
    },
    {
      "cell_type": "markdown",
      "source": [
        "創建K均值聚類器"
      ],
      "metadata": {
        "id": "7N46o-8meGqb"
      }
    },
    {
      "cell_type": "code",
      "source": [
        "kmeans = KMeans(n_clusters=3)"
      ],
      "metadata": {
        "id": "MBe262lNeG4C"
      },
      "execution_count": null,
      "outputs": []
    },
    {
      "cell_type": "markdown",
      "source": [
        "擬合數據"
      ],
      "metadata": {
        "id": "ZNP7FAwteIOV"
      }
    },
    {
      "cell_type": "code",
      "source": [
        "kmeans.fit(scaled_data)"
      ],
      "metadata": {
        "id": "fiFduZX_eI-_"
      },
      "execution_count": null,
      "outputs": []
    },
    {
      "cell_type": "markdown",
      "source": [
        "預測標籤"
      ],
      "metadata": {
        "id": "JrWNnEWLeLiV"
      }
    },
    {
      "cell_type": "code",
      "source": [
        "labels = kmeans.predict(scaled_data)"
      ],
      "metadata": {
        "id": "kXSlKIh3eLxj"
      },
      "execution_count": null,
      "outputs": []
    },
    {
      "cell_type": "markdown",
      "source": [
        "可視化結果"
      ],
      "metadata": {
        "id": "71yj4xfieNGw"
      }
    },
    {
      "cell_type": "code",
      "source": [
        "import matplotlib.pyplot as plt\n",
        "\n",
        "plt.scatter(scaled_data[:, 0], scaled_data[:, 1], c=labels)\n",
        "plt.show()"
      ],
      "metadata": {
        "id": "phos_nw_eNPh"
      },
      "execution_count": null,
      "outputs": []
    },
    {
      "cell_type": "markdown",
      "source": [
        "總結:\n",
        "我們使用Pandas庫進行數據分析的基本操作，如讀取數據、描述性統計、篩選數據和分組聚合。\n",
        "\n",
        "此外，也包含了使用Scikit-learn庫實現決策樹和KMeans算法的範例。\n"
      ],
      "metadata": {
        "id": "UP-Rpu-beRDh"
      }
    },
    {
      "cell_type": "markdown",
      "source": [
        "# 練習\n",
        "\n",
        "請同學到kaggle iris的網頁 下載練習資料\n",
        "\n",
        "https://www.kaggle.com/datasets/uciml/iris"
      ],
      "metadata": {
        "id": "xno2WL2uWCbj"
      }
    },
    {
      "cell_type": "markdown",
      "source": [
        "練習題1: 請使用Pandas庫讀取\"iris.csv\"數據文件，並顯示前五行數據。\n",
        "\n",
        "練習題2: 請使用Pandas庫計算\"iris.csv\"數據文件中\"petal_length\"列的平均值和標準差。\n",
        "\n",
        "練習題3: 請使用Pandas庫篩選出\"iris.csv\"數據文件中\"sepal_length\"列大於等於5.5的數據。\n",
        "\n",
        "練習題4: 請使用Scikit-learn庫中的KMeans算法對\"iris.csv\"數據文件進行聚類操作，分成三個類別，並將結果可視化。\n",
        "\n",
        "練習題5: 請使用Scikit-learn庫中的DecisionTreeClassifier算法對\"iris.csv\"數據文件進行分類操作，使用\"petal_length\"和\"petal_width\"作為特徵，使用\"species\"作為標籤，並計算模型的準確度。\n",
        "\n",
        "練習題6: 嘗試使用Scikit-learn庫中的其他分類算法，例如RandomForestClassifier或LogisticRegression，對\"iris.csv\"數據文件進行分類操作，並計算模型的準確度。\n",
        "\n",
        "練習題7: 嘗試使用Scikit-learn庫中的其他聚類算法，例如DBSCAN或層次聚類，對\"iris.csv\"數據文件進行聚類操作，並將結果可視化。"
      ],
      "metadata": {
        "id": "WYwLr3zrV0Zy"
      }
    },
    {
      "cell_type": "code",
      "source": [],
      "metadata": {
        "id": "dq_b06wOemYk"
      },
      "execution_count": null,
      "outputs": []
    }
  ]
}