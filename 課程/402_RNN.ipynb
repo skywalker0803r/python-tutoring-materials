{
  "cells": [
    {
      "cell_type": "markdown",
      "metadata": {
        "id": "RX9Ibnx0Bl6D"
      },
      "source": [
        "# 402 RNN\n",
        "\n",
        "View more, visit my tutorial page: https://mofanpy.com/tutorials/\n",
        "My Youtube Channel: https://www.youtube.com/user/MorvanZhou\n",
        "\n",
        "Dependencies:\n",
        "* torch: 0.1.11\n",
        "* matplotlib\n"
      ]
    },
    {
      "cell_type": "code",
      "execution_count": 17,
      "metadata": {
        "collapsed": true,
        "id": "4WrBKcX8Bl6H"
      },
      "outputs": [],
      "source": [
        "import torch\n",
        "from torch import nn\n",
        "from torch.autograd import Variable\n",
        "import torchvision.datasets as dsets\n",
        "import torchvision.transforms as transforms\n",
        "import matplotlib.pyplot as plt\n",
        "%matplotlib inline"
      ]
    },
    {
      "cell_type": "code",
      "execution_count": 18,
      "metadata": {
        "id": "dkkLm51ABl6L",
        "outputId": "f23ea89f-3b9f-43d9-f8b9-9b3a8d043456",
        "colab": {
          "base_uri": "https://localhost:8080/"
        }
      },
      "outputs": [
        {
          "output_type": "execute_result",
          "data": {
            "text/plain": [
              "<torch._C.Generator at 0x7f4a66b35370>"
            ]
          },
          "metadata": {},
          "execution_count": 18
        }
      ],
      "source": [
        "torch.manual_seed(1)    # reproducible"
      ]
    },
    {
      "cell_type": "markdown",
      "source": [
        "# 參數"
      ],
      "metadata": {
        "id": "_rDR7ag5C775"
      }
    },
    {
      "cell_type": "code",
      "execution_count": 19,
      "metadata": {
        "collapsed": true,
        "id": "Dpar46K9Bl6N"
      },
      "outputs": [],
      "source": [
        "# Hyper Parameters(超參數)\n",
        "EPOCH = 1   #(訓練迭代次數)            # train the training data n times, to save time, we just train 1 epoch\n",
        "BATCH_SIZE = 64 #每一次訓練批量大小(每一次撈64筆樣本)\n",
        "TIME_STEP = 28 #時間序列長度,做預測會考慮多久以前的時間軸         # rnn time step / image height\n",
        "INPUT_SIZE = 28 #輸入特徵維度         # rnn input size / image width\n",
        "# 圖片(寬28長28)\n",
        "LR = 0.01 #學習率(梯度下降每更新一次步長參數)              # learning rate\n",
        "DOWNLOAD_MNIST = True #要不要下載MNIST資料集  # set to True if haven't download the data"
      ]
    },
    {
      "cell_type": "markdown",
      "source": [
        "# 下載訓練資料"
      ],
      "metadata": {
        "id": "ojotY0SBC-rK"
      }
    },
    {
      "cell_type": "code",
      "execution_count": 20,
      "metadata": {
        "collapsed": true,
        "id": "F7eGEHp_Bl6O"
      },
      "outputs": [],
      "source": [
        "# Mnist digital dataset\n",
        "train_data = dsets.MNIST(\n",
        "    root='./mnist/',\n",
        "    train=True,                         # this is training data\n",
        "    transform=transforms.ToTensor(),    # Converts a PIL.Image or numpy.ndarray to\n",
        "                                        # torch.FloatTensor of shape (C x H x W) and normalize in the range [0.0, 1.0]\n",
        "    download=DOWNLOAD_MNIST,            # download it if you don't have it\n",
        ")"
      ]
    },
    {
      "cell_type": "markdown",
      "source": [
        "# 採樣一筆訓練資料(圖片) 繪製出來"
      ],
      "metadata": {
        "id": "k7kbgh6_DDZG"
      }
    },
    {
      "cell_type": "code",
      "execution_count": 21,
      "metadata": {
        "id": "68EjL0DWBl6P",
        "outputId": "d27b5618-02fa-4bfa-a10e-642730994661",
        "colab": {
          "base_uri": "https://localhost:8080/",
          "height": 579
        }
      },
      "outputs": [
        {
          "output_type": "stream",
          "name": "stderr",
          "text": [
            "/usr/local/lib/python3.10/dist-packages/torchvision/datasets/mnist.py:75: UserWarning: train_data has been renamed data\n",
            "  warnings.warn(\"train_data has been renamed data\")\n",
            "/usr/local/lib/python3.10/dist-packages/torchvision/datasets/mnist.py:65: UserWarning: train_labels has been renamed targets\n",
            "  warnings.warn(\"train_labels has been renamed targets\")\n"
          ]
        },
        {
          "output_type": "stream",
          "name": "stdout",
          "text": [
            "torch.Size([60000, 28, 28])\n",
            "torch.Size([60000])\n"
          ]
        },
        {
          "output_type": "display_data",
          "data": {
            "text/plain": [
              "<Figure size 640x480 with 1 Axes>"
            ],
            "image/png": "[encoded data removed]"
          },
          "metadata": {}
        }
      ],
      "source": [
        "# plot one example\n",
        "print(train_data.train_data.size())     # (60000, 28, 28) 6萬張圖片 長28 寬28\n",
        "print(train_data.train_labels.size())   # (60000)\n",
        "plt.imshow(train_data.train_data[0].numpy(), cmap='gray')\n",
        "plt.title('%i' % train_data.train_labels[0])\n",
        "plt.show()"
      ]
    },
    {
      "cell_type": "markdown",
      "source": [
        "# 把資料做成PYTORCH Data Loader 格式 方便做批量訓練"
      ],
      "metadata": {
        "id": "wpA2jfGbDIts"
      }
    },
    {
      "cell_type": "code",
      "execution_count": 22,
      "metadata": {
        "collapsed": true,
        "id": "fk81jCN5Bl6Q"
      },
      "outputs": [],
      "source": [
        "# Data Loader for easy mini-batch return in training\n",
        "train_loader = torch.utils.data.DataLoader(dataset=train_data, batch_size=BATCH_SIZE, shuffle=True)"
      ]
    },
    {
      "cell_type": "markdown",
      "source": [
        "# 測試資料 test_data 對模型(訓練後)做驗證"
      ],
      "metadata": {
        "id": "2t_tz9WLDNYD"
      }
    },
    {
      "cell_type": "code",
      "execution_count": 23,
      "metadata": {
        "collapsed": true,
        "id": "j1RLDW_gBl6R",
        "outputId": "54293e73-fecc-4428-b137-550a682068ca",
        "colab": {
          "base_uri": "https://localhost:8080/"
        }
      },
      "outputs": [
        {
          "output_type": "stream",
          "name": "stderr",
          "text": [
            "/usr/local/lib/python3.10/dist-packages/torchvision/datasets/mnist.py:80: UserWarning: test_data has been renamed data\n",
            "  warnings.warn(\"test_data has been renamed data\")\n",
            "<ipython-input-23-5235ae4c11eb>:3: UserWarning: volatile was removed and now has no effect. Use `with torch.no_grad():` instead.\n",
            "  test_x = Variable(test_data.test_data, volatile=True).type(torch.FloatTensor)[:2000]/255.   # shape (2000, 28, 28) value in range(0,1)\n",
            "/usr/local/lib/python3.10/dist-packages/torchvision/datasets/mnist.py:70: UserWarning: test_labels has been renamed targets\n",
            "  warnings.warn(\"test_labels has been renamed targets\")\n"
          ]
        }
      ],
      "source": [
        "# convert test data into Variable, pick 2000 samples to speed up testing\n",
        "test_data = dsets.MNIST(root='./mnist/', train=False, transform=transforms.ToTensor())\n",
        "test_x = Variable(test_data.test_data, volatile=True).type(torch.FloatTensor)[:2000]/255.   # shape (2000, 28, 28) value in range(0,1)\n",
        "test_y = test_data.test_labels.numpy().squeeze()[:2000]    # covert to numpy array"
      ]
    },
    {
      "cell_type": "markdown",
      "source": [
        "# 循環神經網路RNN(LSTM版本)"
      ],
      "metadata": {
        "id": "zHm_UyUfDb8g"
      }
    },
    {
      "cell_type": "code",
      "execution_count": 24,
      "metadata": {
        "collapsed": true,
        "id": "kWFYeVa-Bl6S"
      },
      "outputs": [],
      "source": [
        "class RNN(nn.Module):\n",
        "    def __init__(self):\n",
        "        super(RNN, self).__init__()\n",
        "\n",
        "        self.rnn = nn.LSTM(         #如果單純RNN 很難訓練所以改用LSTM # if use nn.RNN(), it hardly learns\n",
        "            input_size=INPUT_SIZE,#(輸入特徵維度) 這裡是28 因為圖片寬度是28\n",
        "            hidden_size=64, #隱藏層神經元數量(影響到模型能力愈多愈強可是運算資源消耗更大時間更久才能收斂)        # rnn hidden unit\n",
        "            num_layers=1, #幾個隱藏層 這裡設1個(愈多層能力愈強收斂很慢)          # number of rnn layer\n",
        "            batch_first=True, #要不要 BATCH_SIZE 當作第一個shape      # input & output will has batch size as 1s dimension. e.g. (batch, time_step, input_size)\n",
        "        )\n",
        "\n",
        "        self.out = nn.Linear(64, 10)\n",
        "\n",
        "    def forward(self, x):\n",
        "        # x shape (batch, time_step, input_size)\n",
        "        # r_out shape (batch, time_step, output_size)\n",
        "        # h_n shape (n_layers, batch, hidden_size)\n",
        "        # h_c shape (n_layers, batch, hidden_size)\n",
        "        # 輸入x代入rnn模塊,None代表說初始化隱藏向量h_n(時間點0),h_c(時間點0)的數值是None代表0\n",
        "        r_out, (h_n, h_c) = self.rnn(x, None)   # None represents zero initial hidden state\n",
        "        # r_out:在特定時間點的輸出,(h_n, h_c)在特定時間的隱藏層數值\n",
        "        # choose r_out at the last time step\n",
        "        out = self.out(r_out[:, -1, :])#第一個維度是batch_size維度,第二個維度時間軸(取-1代表最後一個時間點的值),第三個是特徵維度\n",
        "        return out"
      ]
    },
    {
      "cell_type": "code",
      "execution_count": 25,
      "metadata": {
        "id": "K6HLooiVBl6U",
        "outputId": "aea412e1-5d39-456a-80e2-ed730e2aa1e4",
        "colab": {
          "base_uri": "https://localhost:8080/"
        }
      },
      "outputs": [
        {
          "output_type": "stream",
          "name": "stdout",
          "text": [
            "RNN(\n",
            "  (rnn): LSTM(28, 64, batch_first=True)\n",
            "  (out): Linear(in_features=64, out_features=10, bias=True)\n",
            ")\n"
          ]
        }
      ],
      "source": [
        "rnn = RNN()\n",
        "print(rnn)"
      ]
    },
    {
      "cell_type": "code",
      "execution_count": 26,
      "metadata": {
        "collapsed": true,
        "id": "IpWEskDWBl6V"
      },
      "outputs": [],
      "source": [
        "optimizer = torch.optim.Adam(rnn.parameters(), lr=LR)   #優化器 adam\n",
        "loss_func = nn.CrossEntropyLoss() #損失函數 分類任務 使用CrossEntrop 交叉墒"
      ]
    },
    {
      "cell_type": "code",
      "execution_count": 27,
      "metadata": {
        "id": "_ldNFSg9Bl6V",
        "outputId": "d0ade664-7e97-4c74-a63a-1cf52f742703",
        "colab": {
          "base_uri": "https://localhost:8080/"
        }
      },
      "outputs": [
        {
          "output_type": "stream",
          "name": "stdout",
          "text": [
            "Epoch:  0 | train loss: 2.3088 | test accuracy: 0.09\n",
            "Epoch:  0 | train loss: 1.3109 | test accuracy: 0.59\n",
            "Epoch:  0 | train loss: 0.7657 | test accuracy: 0.73\n",
            "Epoch:  0 | train loss: 0.6890 | test accuracy: 0.77\n",
            "Epoch:  0 | train loss: 0.2135 | test accuracy: 0.83\n",
            "Epoch:  0 | train loss: 0.2512 | test accuracy: 0.89\n",
            "Epoch:  0 | train loss: 0.3412 | test accuracy: 0.90\n",
            "Epoch:  0 | train loss: 0.3512 | test accuracy: 0.92\n",
            "Epoch:  0 | train loss: 0.0860 | test accuracy: 0.94\n",
            "Epoch:  0 | train loss: 0.0828 | test accuracy: 0.94\n",
            "Epoch:  0 | train loss: 0.1309 | test accuracy: 0.93\n",
            "Epoch:  0 | train loss: 0.2273 | test accuracy: 0.95\n",
            "Epoch:  0 | train loss: 0.1981 | test accuracy: 0.95\n",
            "Epoch:  0 | train loss: 0.1883 | test accuracy: 0.95\n",
            "Epoch:  0 | train loss: 0.0918 | test accuracy: 0.95\n",
            "Epoch:  0 | train loss: 0.1744 | test accuracy: 0.96\n",
            "Epoch:  0 | train loss: 0.0325 | test accuracy: 0.96\n",
            "Epoch:  0 | train loss: 0.2735 | test accuracy: 0.95\n",
            "Epoch:  0 | train loss: 0.0978 | test accuracy: 0.96\n"
          ]
        }
      ],
      "source": [
        "# training and testing\n",
        "for epoch in range(EPOCH):\n",
        "    for step, (x, y) in enumerate(train_loader):        # 採樣一小批量的樣本\n",
        "        b_x = Variable(x.view(-1, 28, 28)) # reshape x to (batch, time_step, input_size)\n",
        "        b_y = Variable(y)   # batch y\n",
        "\n",
        "        output = rnn(b_x) #一個批量(batch)的x(輸入)丟入 rnn 計算 output(輸出)(預測值)\n",
        "        loss = loss_func(output, b_y) # 將預測值和標準答案倆倆計算一下 交叉墒損失\n",
        "        # 梯度清空(歸零) => 損失loss反向傳播 => 優化器optimizer更新rnn權重\"一次\"\n",
        "        optimizer.zero_grad()                           # clear gradients for this training step\n",
        "        loss.backward()                                 # backpropagation, compute gradients\n",
        "        optimizer.step()                                # apply gradients\n",
        "\n",
        "        # 當每迭代50步\n",
        "        if step % 50 == 0:\n",
        "            # 用test data 做評估 看目前的模型 準確度accuracy如何?\n",
        "            test_output = rnn(test_x)                   # (samples, time_step, input_size)\n",
        "            pred_y = torch.max(test_output, 1)[1].data.numpy().squeeze()\n",
        "            accuracy = sum(pred_y == test_y) / float(test_y.size)\n",
        "            print('Epoch: ', epoch, '| train loss: %.4f' % loss.item(), '| test accuracy: %.2f' % accuracy)\n"
      ]
    },
    {
      "cell_type": "code",
      "execution_count": 29,
      "metadata": {
        "id": "Eq_q_Pq4Bl6X",
        "outputId": "8912aa70-8634-4cd2-9721-94d745237e59",
        "colab": {
          "base_uri": "https://localhost:8080/"
        }
      },
      "outputs": [
        {
          "output_type": "stream",
          "name": "stdout",
          "text": [
            "[7 2 1 0 4 1 4 9 6 9] prediction number\n",
            "[7 2 1 0 4 1 4 9 5 9] real number\n"
          ]
        }
      ],
      "source": [
        "# print 10 predictions from test data\n",
        "test_output = rnn(test_x[:10].view(-1, 28, 28))\n",
        "pred_y = torch.max(test_output, 1)[1].data.numpy().squeeze()\n",
        "print(pred_y, 'prediction number')\n",
        "print(test_y[:10], 'real number')"
      ]
    },
    {
      "cell_type": "code",
      "source": [
        "test_x[-2].view(-1, 28, 28)"
      ],
      "metadata": {
        "id": "ItDqezRGIEVF",
        "outputId": "2c93e106-44e1-42c7-cb61-92c0abb07541",
        "colab": {
          "base_uri": "https://localhost:8080/"
        }
      },
      "execution_count": 30,
      "outputs": [
        {
          "output_type": "execute_result",
          "data": {
            "text/plain": [
              "tensor([[[0.0000, 0.0000, 0.0000, 0.0000, 0.0000, 0.0000, 0.0000, 0.0000,\n",
              "          0.0000, 0.0000, 0.0000, 0.0000, 0.0000, 0.0000, 0.0000, 0.0000,\n",
              "          0.0000, 0.0000, 0.0000, 0.0000, 0.0000, 0.0000, 0.0000, 0.0000,\n",
              "          0.0000, 0.0000, 0.0000, 0.0000],\n",
              "         [0.0000, 0.0000, 0.0000, 0.0000, 0.0000, 0.0000, 0.0000, 0.0000,\n",
              "          0.0000, 0.0000, 0.0000, 0.0000, 0.0000, 0.0000, 0.0000, 0.0000,\n",
              "          0.0000, 0.0000, 0.0000, 0.0000, 0.0000, 0.0000, 0.0000, 0.0000,\n",
              "          0.0000, 0.0000, 0.0000, 0.0000],\n",
              "         [0.0000, 0.0000, 0.0000, 0.0000, 0.0000, 0.0000, 0.0000, 0.0000,\n",
              "          0.0000, 0.0000, 0.0000, 0.0000, 0.0000, 0.0000, 0.0000, 0.0000,\n",
              "          0.0000, 0.0000, 0.0000, 0.0000, 0.0000, 0.0000, 0.0000, 0.0000,\n",
              "          0.0000, 0.0000, 0.0000, 0.0000],\n",
              "         [0.0000, 0.0000, 0.0000, 0.0000, 0.0000, 0.0000, 0.0000, 0.0000,\n",
              "          0.0000, 0.0000, 0.0000, 0.0000, 0.0000, 0.0000, 0.0000, 0.0000,\n",
              "          0.0000, 0.0000, 0.0000, 0.0000, 0.0000, 0.0000, 0.0000, 0.0000,\n",
              "          0.0000, 0.0000, 0.0000, 0.0000],\n",
              "         [0.0000, 0.0000, 0.0000, 0.0000, 0.0000, 0.0000, 0.0000, 0.0000,\n",
              "          0.0000, 0.0000, 0.0000, 0.0000, 0.0000, 0.0000, 0.0000, 0.0000,\n",
              "          0.0000, 0.0000, 0.0000, 0.0000, 0.0000, 0.0000, 0.0000, 0.0000,\n",
              "          0.0000, 0.0000, 0.0000, 0.0000],\n",
              "         [0.0000, 0.0000, 0.0000, 0.0000, 0.0000, 0.0000, 0.0000, 0.0000,\n",
              "          0.0000, 0.0000, 0.0000, 0.0000, 0.0000, 0.0000, 0.0000, 0.0000,\n",
              "          0.0000, 0.0000, 0.0000, 0.0000, 0.0000, 0.0000, 0.0000, 0.0000,\n",
              "          0.0000, 0.0000, 0.0000, 0.0000],\n",
              "         [0.0000, 0.0000, 0.0000, 0.0000, 0.0000, 0.0000, 0.0000, 0.0000,\n",
              "          0.0000, 0.0000, 0.0000, 0.0000, 0.0431, 0.5059, 0.9961, 0.9922,\n",
              "          0.9922, 0.3451, 0.0000, 0.0000, 0.0000, 0.0000, 0.0000, 0.0000,\n",
              "          0.0000, 0.0000, 0.0000, 0.0000],\n",
              "         [0.0000, 0.0000, 0.0000, 0.0000, 0.0000, 0.0000, 0.0000, 0.0000,\n",
              "          0.0000, 0.0000, 0.0000, 0.0471, 0.6706, 0.9882, 0.9922, 0.9882,\n",
              "          0.9882, 0.9020, 0.0000, 0.0000, 0.0000, 0.0000, 0.0000, 0.0000,\n",
              "          0.0000, 0.0000, 0.0000, 0.0000],\n",
              "         [0.0000, 0.0000, 0.0000, 0.0000, 0.0000, 0.0000, 0.0000, 0.0000,\n",
              "          0.0000, 0.0000, 0.0000, 0.5294, 0.9882, 0.9882, 0.9922, 0.9882,\n",
              "          0.9882, 0.9020, 0.0000, 0.0000, 0.0000, 0.0000, 0.0000, 0.0000,\n",
              "          0.0000, 0.0000, 0.0000, 0.0000],\n",
              "         [0.0000, 0.0000, 0.0000, 0.0000, 0.0000, 0.0000, 0.0000, 0.0000,\n",
              "          0.0000, 0.0000, 0.3098, 0.9725, 0.9647, 0.9020, 0.4745, 0.5843,\n",
              "          0.9373, 0.9490, 0.2196, 0.0000, 0.0000, 0.0000, 0.0000, 0.0000,\n",
              "          0.0000, 0.0000, 0.0000, 0.0000],\n",
              "         [0.0000, 0.0000, 0.0000, 0.0000, 0.0000, 0.0000, 0.0000, 0.0000,\n",
              "          0.0000, 0.0000, 0.9059, 0.9882, 0.5922, 0.0000, 0.0000, 0.0000,\n",
              "          0.3922, 0.9882, 0.7725, 0.0000, 0.0000, 0.0000, 0.0000, 0.0000,\n",
              "          0.0000, 0.0000, 0.0000, 0.0000],\n",
              "         [0.0000, 0.0000, 0.0000, 0.0000, 0.0000, 0.0000, 0.0000, 0.0000,\n",
              "          0.0000, 0.2745, 0.9725, 0.9294, 0.1686, 0.0000, 0.0000, 0.0000,\n",
              "          0.2196, 0.9725, 0.7725, 0.0000, 0.0000, 0.0000, 0.0000, 0.0000,\n",
              "          0.0000, 0.0000, 0.0000, 0.0000],\n",
              "         [0.0000, 0.0000, 0.0000, 0.0000, 0.0000, 0.0000, 0.0000, 0.0000,\n",
              "          0.0000, 0.7412, 0.9882, 0.4235, 0.0000, 0.0000, 0.0000, 0.0000,\n",
              "          0.3922, 0.9882, 0.7725, 0.0000, 0.0000, 0.0000, 0.0000, 0.0000,\n",
              "          0.0000, 0.0000, 0.0000, 0.0000],\n",
              "         [0.0000, 0.0000, 0.0000, 0.0000, 0.0000, 0.0000, 0.0000, 0.0000,\n",
              "          0.1333, 0.9059, 0.9647, 0.1529, 0.0000, 0.0000, 0.0000, 0.0000,\n",
              "          0.4667, 0.9882, 0.7725, 0.0000, 0.0000, 0.0000, 0.0000, 0.0000,\n",
              "          0.0000, 0.0000, 0.0000, 0.0000],\n",
              "         [0.0000, 0.0000, 0.0000, 0.0000, 0.0000, 0.0000, 0.0000, 0.0000,\n",
              "          0.2196, 0.9882, 0.9608, 0.1216, 0.0000, 0.0000, 0.0000, 0.3255,\n",
              "          0.9451, 0.9882, 0.6392, 0.0000, 0.0000, 0.0000, 0.0000, 0.0000,\n",
              "          0.0000, 0.0000, 0.0000, 0.0000],\n",
              "         [0.0000, 0.0000, 0.0000, 0.0000, 0.0000, 0.0000, 0.0000, 0.0000,\n",
              "          0.2196, 0.9882, 0.9882, 0.9137, 0.7333, 0.4353, 0.8667, 0.9529,\n",
              "          0.9882, 0.9882, 0.3451, 0.0000, 0.0000, 0.0000, 0.0000, 0.0000,\n",
              "          0.0000, 0.0000, 0.0000, 0.0000],\n",
              "         [0.0000, 0.0000, 0.0000, 0.0000, 0.0000, 0.0000, 0.0000, 0.0000,\n",
              "          0.1922, 0.9647, 0.9922, 0.9922, 0.9922, 0.9922, 1.0000, 0.9020,\n",
              "          0.9725, 0.9804, 0.3020, 0.0000, 0.0000, 0.0000, 0.0000, 0.0000,\n",
              "          0.0000, 0.0000, 0.0000, 0.0000],\n",
              "         [0.0000, 0.0000, 0.0000, 0.0000, 0.0000, 0.0000, 0.0000, 0.0000,\n",
              "          0.0000, 0.2353, 0.6941, 0.8902, 0.9882, 0.8745, 0.7333, 0.2235,\n",
              "          0.8196, 0.9255, 0.0902, 0.0000, 0.0000, 0.0000, 0.0000, 0.0000,\n",
              "          0.0000, 0.0000, 0.0000, 0.0000],\n",
              "         [0.0000, 0.0000, 0.0000, 0.0000, 0.0000, 0.0000, 0.0000, 0.0000,\n",
              "          0.0000, 0.0000, 0.0000, 0.1059, 0.1725, 0.0980, 0.0000, 0.0000,\n",
              "          0.8196, 0.9882, 0.3451, 0.0000, 0.0000, 0.0000, 0.0000, 0.0000,\n",
              "          0.0000, 0.0000, 0.0000, 0.0000],\n",
              "         [0.0000, 0.0000, 0.0000, 0.0000, 0.0000, 0.0000, 0.0000, 0.0000,\n",
              "          0.0000, 0.0000, 0.0000, 0.0000, 0.0000, 0.0000, 0.0000, 0.0000,\n",
              "          0.8196, 0.9529, 0.1961, 0.0000, 0.0000, 0.0000, 0.0000, 0.0000,\n",
              "          0.0000, 0.0000, 0.0000, 0.0000],\n",
              "         [0.0000, 0.0000, 0.0000, 0.0000, 0.0000, 0.0000, 0.0000, 0.0000,\n",
              "          0.0000, 0.0000, 0.0000, 0.0000, 0.0000, 0.0000, 0.0000, 0.0000,\n",
              "          0.7255, 0.9686, 0.2706, 0.0000, 0.0000, 0.0000, 0.0000, 0.0000,\n",
              "          0.0000, 0.0000, 0.0000, 0.0000],\n",
              "         [0.0000, 0.0000, 0.0000, 0.0000, 0.0000, 0.0000, 0.0000, 0.0000,\n",
              "          0.0000, 0.0000, 0.0000, 0.0000, 0.0000, 0.0000, 0.0000, 0.0000,\n",
              "          0.7294, 0.9020, 0.0000, 0.0000, 0.0000, 0.0000, 0.0000, 0.0000,\n",
              "          0.0000, 0.0000, 0.0000, 0.0000],\n",
              "         [0.0000, 0.0000, 0.0000, 0.0000, 0.0000, 0.0000, 0.0000, 0.0000,\n",
              "          0.0000, 0.0000, 0.0000, 0.0000, 0.0000, 0.0000, 0.0000, 0.0000,\n",
              "          0.8196, 0.9020, 0.0000, 0.0000, 0.0000, 0.0000, 0.0000, 0.0000,\n",
              "          0.0000, 0.0000, 0.0000, 0.0000],\n",
              "         [0.0000, 0.0000, 0.0000, 0.0000, 0.0000, 0.0000, 0.0000, 0.0000,\n",
              "          0.0000, 0.0000, 0.0000, 0.0000, 0.0000, 0.0000, 0.0000, 0.0000,\n",
              "          0.8196, 0.9020, 0.0000, 0.0000, 0.0000, 0.0000, 0.0000, 0.0000,\n",
              "          0.0000, 0.0000, 0.0000, 0.0000],\n",
              "         [0.0000, 0.0000, 0.0000, 0.0000, 0.0000, 0.0000, 0.0000, 0.0000,\n",
              "          0.0000, 0.0000, 0.0000, 0.0000, 0.0000, 0.0000, 0.0000, 0.0000,\n",
              "          0.8196, 0.9020, 0.0000, 0.0000, 0.0000, 0.0000, 0.0000, 0.0000,\n",
              "          0.0000, 0.0000, 0.0000, 0.0000],\n",
              "         [0.0000, 0.0000, 0.0000, 0.0000, 0.0000, 0.0000, 0.0000, 0.0000,\n",
              "          0.0000, 0.0000, 0.0000, 0.0000, 0.0000, 0.0000, 0.0000, 0.0000,\n",
              "          0.6314, 0.7137, 0.0000, 0.0000, 0.0000, 0.0000, 0.0000, 0.0000,\n",
              "          0.0000, 0.0000, 0.0000, 0.0000],\n",
              "         [0.0000, 0.0000, 0.0000, 0.0000, 0.0000, 0.0000, 0.0000, 0.0000,\n",
              "          0.0000, 0.0000, 0.0000, 0.0000, 0.0000, 0.0000, 0.0000, 0.0000,\n",
              "          0.0000, 0.0000, 0.0000, 0.0000, 0.0000, 0.0000, 0.0000, 0.0000,\n",
              "          0.0000, 0.0000, 0.0000, 0.0000],\n",
              "         [0.0000, 0.0000, 0.0000, 0.0000, 0.0000, 0.0000, 0.0000, 0.0000,\n",
              "          0.0000, 0.0000, 0.0000, 0.0000, 0.0000, 0.0000, 0.0000, 0.0000,\n",
              "          0.0000, 0.0000, 0.0000, 0.0000, 0.0000, 0.0000, 0.0000, 0.0000,\n",
              "          0.0000, 0.0000, 0.0000, 0.0000]]])"
            ]
          },
          "metadata": {},
          "execution_count": 30
        }
      ]
    },
    {
      "cell_type": "code",
      "execution_count": 31,
      "metadata": {
        "collapsed": true,
        "id": "Y6GvsI7KBl6Y",
        "outputId": "9f2d2e71-ce13-4a50-db59-47c8f409810b",
        "colab": {
          "base_uri": "https://localhost:8080/",
          "height": 579
        }
      },
      "outputs": [
        {
          "output_type": "stream",
          "name": "stderr",
          "text": [
            "/usr/local/lib/python3.10/dist-packages/torchvision/datasets/mnist.py:75: UserWarning: train_data has been renamed data\n",
            "  warnings.warn(\"train_data has been renamed data\")\n",
            "/usr/local/lib/python3.10/dist-packages/torchvision/datasets/mnist.py:65: UserWarning: train_labels has been renamed targets\n",
            "  warnings.warn(\"train_labels has been renamed targets\")\n"
          ]
        },
        {
          "output_type": "stream",
          "name": "stdout",
          "text": [
            "torch.Size([60000, 28, 28])\n",
            "torch.Size([60000])\n"
          ]
        },
        {
          "output_type": "display_data",
          "data": {
            "text/plain": [
              "<Figure size 640x480 with 1 Axes>"
            ],
            "image/png": "[encoded data removed]"
          },
          "metadata": {}
        }
      ],
      "source": [
        "# plot one example\n",
        "print(train_data.train_data.size())     # (60000, 28, 28) 6萬張圖片 長28 寬28\n",
        "print(train_data.train_labels.size())   # (60000)\n",
        "plt.imshow(test_x[-2].numpy(), cmap='gray')\n",
        "plt.title('%i' % train_data.train_labels[0])\n",
        "plt.show()"
      ]
    },
    {
      "cell_type": "code",
      "source": [],
      "metadata": {
        "id": "kZX4e7rGIMjm"
      },
      "execution_count": null,
      "outputs": []
    }
  ],
  "metadata": {
    "kernelspec": {
      "display_name": "Python 3",
      "language": "python",
      "name": "python3"
    },
    "language_info": {
      "codemirror_mode": {
        "name": "ipython",
        "version": 3
      },
      "file_extension": ".py",
      "mimetype": "text/x-python",
      "name": "python",
      "nbconvert_exporter": "python",
      "pygments_lexer": "ipython3",
      "version": "3.5.2"
    },
    "colab": {
      "provenance": []
    }
  },
  "nbformat": 4,
  "nbformat_minor": 0
}