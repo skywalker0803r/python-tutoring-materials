{
  "nbformat": 4,
  "nbformat_minor": 0,
  "metadata": {
    "colab": {
      "provenance": []
    },
    "kernelspec": {
      "name": "python3",
      "display_name": "Python 3"
    },
    "language_info": {
      "name": "python"
    }
  },
  "cells": [
    {
      "cell_type": "code",
      "execution_count": 62,
      "metadata": {
        "id": "WjfjobW16zBf"
      },
      "outputs": [],
      "source": [
        "import torch\n",
        "import torch.nn.functional as F"
      ]
    },
    {
      "cell_type": "code",
      "source": [
        "# replace following class code with an easy sequential network\n",
        "class Net(torch.nn.Module):\n",
        "    def __init__(self, n_feature, n_hidden, n_output):\n",
        "        super(Net, self).__init__()\n",
        "        self.hidden = torch.nn.Linear(n_feature, n_hidden)   # hidden layer\n",
        "        #self.predict = torch.nn.Linear(n_hidden, n_output)   # output layer\n",
        "\n",
        "    def forward(self, x):\n",
        "        x = F.relu(self.hidden(x))      # activation function for hidden layer\n",
        "        #x = self.predict(x)             # linear output\n",
        "        return x"
      ],
      "metadata": {
        "id": "1lFKcdXU67U2"
      },
      "execution_count": 63,
      "outputs": []
    },
    {
      "cell_type": "code",
      "source": [
        "net1 = Net(1, 1, 1)\n",
        "net1"
      ],
      "metadata": {
        "colab": {
          "base_uri": "https://localhost:8080/"
        },
        "id": "tzwxwwoT7O_r",
        "outputId": "256e7cbf-95aa-4ce2-849f-264cc1031c13"
      },
      "execution_count": 64,
      "outputs": [
        {
          "output_type": "execute_result",
          "data": {
            "text/plain": [
              "Net(\n",
              "  (hidden): Linear(in_features=1, out_features=1, bias=True)\n",
              ")"
            ]
          },
          "metadata": {},
          "execution_count": 64
        }
      ]
    },
    {
      "cell_type": "code",
      "source": [
        "net1.hidden.weight"
      ],
      "metadata": {
        "colab": {
          "base_uri": "https://localhost:8080/"
        },
        "id": "nfK_FG7d7Sew",
        "outputId": "aeaffd95-ff8d-4eba-84bc-43d1a0027fd3"
      },
      "execution_count": 65,
      "outputs": [
        {
          "output_type": "execute_result",
          "data": {
            "text/plain": [
              "Parameter containing:\n",
              "tensor([[0.8604]], requires_grad=True)"
            ]
          },
          "metadata": {},
          "execution_count": 65
        }
      ]
    },
    {
      "cell_type": "code",
      "source": [
        "net1.hidden.bias"
      ],
      "metadata": {
        "colab": {
          "base_uri": "https://localhost:8080/"
        },
        "id": "60MQ-Bck8bN5",
        "outputId": "e8c31e37-56fa-479d-be7f-071e8b9b5cbe"
      },
      "execution_count": 66,
      "outputs": [
        {
          "output_type": "execute_result",
          "data": {
            "text/plain": [
              "Parameter containing:\n",
              "tensor([0.8681], requires_grad=True)"
            ]
          },
          "metadata": {},
          "execution_count": 66
        }
      ]
    },
    {
      "cell_type": "code",
      "source": [
        "tensor = torch.FloatTensor([1])\n",
        "tensor"
      ],
      "metadata": {
        "colab": {
          "base_uri": "https://localhost:8080/"
        },
        "id": "pZ4srH_y837f",
        "outputId": "7b4c9b73-ebeb-4b3e-8b1d-2063629b8991"
      },
      "execution_count": 67,
      "outputs": [
        {
          "output_type": "execute_result",
          "data": {
            "text/plain": [
              "tensor([1.])"
            ]
          },
          "metadata": {},
          "execution_count": 67
        }
      ]
    },
    {
      "cell_type": "code",
      "source": [
        "net1(tensor)"
      ],
      "metadata": {
        "colab": {
          "base_uri": "https://localhost:8080/"
        },
        "id": "DxEfj2KZ8hDu",
        "outputId": "97a52eda-e31c-40a0-f312-7668e5e73879"
      },
      "execution_count": 68,
      "outputs": [
        {
          "output_type": "execute_result",
          "data": {
            "text/plain": [
              "tensor([1.7285], grad_fn=<ReluBackward0>)"
            ]
          },
          "metadata": {},
          "execution_count": 68
        }
      ]
    },
    {
      "cell_type": "markdown",
      "source": [
        "# 神經網路最基本的一個運算單元 y = xA+b 其中A代表權重(weight),b代表bias\n",
        "\n",
        "也可以寫成 y = wx+b"
      ],
      "metadata": {
        "id": "J8aOTEND_OwY"
      }
    },
    {
      "cell_type": "markdown",
      "source": [
        "![P1.PNG](data:image/png;base64,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)"
      ],
      "metadata": {
        "id": "14EsDZB79dbt"
      }
    },
    {
      "cell_type": "code",
      "source": [
        "import numpy as np\n",
        "A = net1.hidden.weight.detach().numpy()\n",
        "b = net1.hidden.bias.detach().numpy()\n",
        "A,b"
      ],
      "metadata": {
        "colab": {
          "base_uri": "https://localhost:8080/"
        },
        "id": "iXOZENJg8uJK",
        "outputId": "78d6da7d-8a28-4cec-9b26-537c24a3a0ca"
      },
      "execution_count": 69,
      "outputs": [
        {
          "output_type": "execute_result",
          "data": {
            "text/plain": [
              "(array([[0.860404]], dtype=float32), array([0.8681303], dtype=float32))"
            ]
          },
          "metadata": {},
          "execution_count": 69
        }
      ]
    },
    {
      "cell_type": "code",
      "source": [
        "(1*A).T+b"
      ],
      "metadata": {
        "colab": {
          "base_uri": "https://localhost:8080/"
        },
        "id": "wdmWdbvk9KR0",
        "outputId": "30e5bb30-3c9c-4f85-9ca2-dbe6af38ddab"
      },
      "execution_count": 70,
      "outputs": [
        {
          "output_type": "execute_result",
          "data": {
            "text/plain": [
              "array([[1.7285343]], dtype=float32)"
            ]
          },
          "metadata": {},
          "execution_count": 70
        }
      ]
    },
    {
      "cell_type": "code",
      "source": [],
      "metadata": {
        "id": "qZfxy-Nv-p7K"
      },
      "execution_count": 61,
      "outputs": []
    }
  ]
}