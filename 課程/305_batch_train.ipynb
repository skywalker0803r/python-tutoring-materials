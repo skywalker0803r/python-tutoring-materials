{
  "cells": [
    {
      "cell_type": "markdown",
      "metadata": {
        "id": "1oZmgNO5Kro5"
      },
      "source": [
        "# 305 Batch Train\n",
        "\n",
        "View more, visit my tutorial page: https://mofanpy.com/tutorials/\n",
        "My Youtube Channel: https://www.youtube.com/user/MorvanZhou\n",
        "\n",
        "Dependencies:\n",
        "* torch: 0.1.11"
      ]
    },
    {
      "cell_type": "code",
      "execution_count": 33,
      "metadata": {
        "id": "dN5B40bpKro7",
        "outputId": "42b1a311-3a80-4402-a37f-fd85464c73b7",
        "colab": {
          "base_uri": "https://localhost:8080/"
        }
      },
      "outputs": [
        {
          "output_type": "execute_result",
          "data": {
            "text/plain": [
              "<torch._C.Generator at 0x7f365c0ecef0>"
            ]
          },
          "metadata": {},
          "execution_count": 33
        }
      ],
      "source": [
        "import torch\n",
        "#from torch.utils.data import Dataset,DataLoader\n",
        "from torch.utils.data import TensorDataset,DataLoader\n",
        "\n",
        "torch.manual_seed(1)    # reproducible"
      ]
    },
    {
      "cell_type": "code",
      "execution_count": 34,
      "metadata": {
        "collapsed": true,
        "id": "EYGR63ZPKro9"
      },
      "outputs": [],
      "source": [
        "#BATCH_SIZE = 5 #一次小批量訓練 批量數量等於5\n",
        "BATCH_SIZE = 8"
      ]
    },
    {
      "cell_type": "code",
      "execution_count": 35,
      "metadata": {
        "collapsed": true,
        "id": "wg6ss46SKro9"
      },
      "outputs": [],
      "source": [
        "x = torch.linspace(1, 10, 10)       # this is x data (torch tensor)\n",
        "y = torch.linspace(10, 1, 10)       # this is y data (torch tensor)"
      ]
    },
    {
      "cell_type": "code",
      "execution_count": 36,
      "metadata": {
        "collapsed": true,
        "id": "cm2IK9jNKro9"
      },
      "outputs": [],
      "source": [
        "torch_dataset = TensorDataset(x,y)\n",
        "#torch_dataset = torch.FloatTensor((x,y))\n",
        "loader = DataLoader(\n",
        "    dataset=torch_dataset,      # torch TensorDataset format\n",
        "    batch_size=BATCH_SIZE,      # mini batch size\n",
        "    shuffle=True,               # random shuffle for training\n",
        "    num_workers=2,              # subprocesses for loading data\n",
        ")"
      ]
    },
    {
      "cell_type": "code",
      "execution_count": 37,
      "metadata": {
        "id": "xPbTNGwnKro-",
        "outputId": "81a7b4b0-21fc-460a-becd-95f7cff65412",
        "colab": {
          "base_uri": "https://localhost:8080/"
        }
      },
      "outputs": [
        {
          "output_type": "stream",
          "name": "stdout",
          "text": [
            "Epoch:  0 | Step:  0 | batch x:  [ 5.  3.  1.  7.  9.  8. 10.  2.] | batch y:  [ 6.  8. 10.  4.  2.  3.  1.  9.]\n",
            "Epoch:  0 | Step:  1 | batch x:  [6. 4.] | batch y:  [5. 7.]\n",
            "Epoch:  1 | Step:  0 | batch x:  [5. 9. 2. 6. 1. 3. 4. 7.] | batch y:  [ 6.  2.  9.  5. 10.  8.  7.  4.]\n",
            "Epoch:  1 | Step:  1 | batch x:  [10.  8.] | batch y:  [1. 3.]\n",
            "Epoch:  2 | Step:  0 | batch x:  [ 6.  9.  4.  8.  7. 10.  3.  2.] | batch y:  [5. 2. 7. 3. 4. 1. 8. 9.]\n",
            "Epoch:  2 | Step:  1 | batch x:  [1. 5.] | batch y:  [10.  6.]\n"
          ]
        }
      ],
      "source": [
        "for epoch in range(3):   # train entire dataset 3 times\n",
        "    for step, (batch_x, batch_y) in enumerate(loader):  # for each training step\n",
        "        # train your data...\n",
        "        print('Epoch: ', epoch, '| Step: ', step, '| batch x: ',\n",
        "              batch_x.numpy(), '| batch y: ', batch_y.numpy())\n"
      ]
    },
    {
      "cell_type": "markdown",
      "metadata": {
        "id": "FZTMTNl1Kro-"
      },
      "source": [
        "### Suppose a different batch size that cannot be fully divided by the number of data entreis:"
      ]
    },
    {
      "cell_type": "code",
      "execution_count": 38,
      "metadata": {
        "id": "YdUSOmD4Kro-",
        "outputId": "d77a38fa-b579-42ef-ca78-5e2aecd0d3b4",
        "colab": {
          "base_uri": "https://localhost:8080/"
        }
      },
      "outputs": [
        {
          "output_type": "stream",
          "name": "stdout",
          "text": [
            "Epoch:  0 | Step:  0 | batch x:  [ 3.  4.  1.  5.  8.  9. 10.  7.] | batch y:  [ 8.  7. 10.  6.  3.  2.  1.  4.]\n",
            "Epoch:  0 | Step:  1 | batch x:  [2. 6.] | batch y:  [9. 5.]\n",
            "Epoch:  1 | Step:  0 | batch x:  [ 4. 10.  7.  3.  9.  5.  2.  8.] | batch y:  [7. 1. 4. 8. 2. 6. 9. 3.]\n",
            "Epoch:  1 | Step:  1 | batch x:  [6. 1.] | batch y:  [ 5. 10.]\n",
            "Epoch:  2 | Step:  0 | batch x:  [10.  3.  5.  8.  4.  2.  9.  1.] | batch y:  [ 1.  8.  6.  3.  7.  9.  2. 10.]\n",
            "Epoch:  2 | Step:  1 | batch x:  [6. 7.] | batch y:  [5. 4.]\n"
          ]
        }
      ],
      "source": [
        "BATCH_SIZE = 8\n",
        "loader = Data.DataLoader(\n",
        "    dataset=torch_dataset,      # torch TensorDataset format\n",
        "    batch_size=BATCH_SIZE,      # mini batch size\n",
        "    shuffle=True,               # random shuffle for training\n",
        "    num_workers=2,              # subprocesses for loading data\n",
        ")\n",
        "for epoch in range(3):   # train entire dataset 3 times\n",
        "    for step, (batch_x, batch_y) in enumerate(loader):  # for each training step\n",
        "        # train your data...\n",
        "        print('Epoch: ', epoch, '| Step: ', step, '| batch x: ',\n",
        "              batch_x.numpy(), '| batch y: ', batch_y.numpy())"
      ]
    },
    {
      "cell_type": "code",
      "execution_count": 38,
      "metadata": {
        "collapsed": true,
        "id": "WnZecqJAKro_"
      },
      "outputs": [],
      "source": []
    }
  ],
  "metadata": {
    "kernelspec": {
      "display_name": "Python 3",
      "language": "python",
      "name": "python3"
    },
    "language_info": {
      "codemirror_mode": {
        "name": "ipython",
        "version": 3
      },
      "file_extension": ".py",
      "mimetype": "text/x-python",
      "name": "python",
      "nbconvert_exporter": "python",
      "pygments_lexer": "ipython3",
      "version": "3.5.2"
    },
    "colab": {
      "provenance": []
    }
  },
  "nbformat": 4,
  "nbformat_minor": 0
}